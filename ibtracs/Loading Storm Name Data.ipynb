{
 "cells": [
  {
   "cell_type": "code",
   "execution_count": 1,
   "metadata": {
    "collapsed": true
   },
   "outputs": [],
   "source": [
    "from pgreaper import Table, copy_table\n",
    "from collections import defaultdict\n",
    "import re"
   ]
  },
  {
   "cell_type": "markdown",
   "metadata": {},
   "source": [
    "## Read First Ten Lines"
   ]
  },
  {
   "cell_type": "code",
   "execution_count": 2,
   "metadata": {
    "collapsed": false
   },
   "outputs": [
    {
     "name": "stdout",
     "output_type": "stream",
     "text": [
      "1842298N11080  NOT NAMED(td9636)\n",
      "\n",
      "1845336N10074  NOT NAMED(td9636)\n",
      "\n",
      "1848011S09079  NOT NAMED(td9636)\n",
      "\n",
      "1848011S09080  XXXX848003(reunion)\n",
      "\n",
      "1848011S15057  XXXX848002(reunion)\n",
      "\n",
      "1848011S16057  NOT NAMED(td9636)\n",
      "\n",
      "1848061S12075  XXXX848001(reunion) - NOT NAMED(td9636)\n",
      "\n",
      "1848062S13069  NOT NAMED(td9636)\n",
      "\n",
      "1848112S07084  XXXX848004(reunion)\n",
      "\n",
      "1848112S07444  NOT NAMED(td9636)\n",
      "\n"
     ]
    }
   ],
   "source": [
    "with open('ibtracs_v03r09_serial-'\n",
    "          'name-mapping.txt', mode='r') as infile:\n",
    "    for i, j in enumerate(infile):\n",
    "        if i == 10:\n",
    "            break\n",
    "        print(j)"
   ]
  },
  {
   "cell_type": "code",
   "execution_count": 3,
   "metadata": {
    "collapsed": false
   },
   "outputs": [
    {
     "name": "stdout",
     "output_type": "stream",
     "text": [
      "1842298N11080 ['NOT NAMED(td9636)\\n']\n",
      "1845336N10074 ['NOT NAMED(td9636)\\n']\n",
      "1848011S09079 ['NOT NAMED(td9636)\\n']\n",
      "1848011S09080 ['XXXX848003(reunion)\\n']\n",
      "1848011S15057 ['XXXX848002(reunion)\\n']\n",
      "1848011S16057 ['NOT NAMED(td9636)\\n']\n",
      "1848061S12075 ['XXXX848001(reunion)', 'NOT NAMED(td9636)\\n']\n",
      "1848062S13069 ['NOT NAMED(td9636)\\n']\n",
      "1848112S07084 ['XXXX848004(reunion)\\n']\n",
      "1848112S07444 ['NOT NAMED(td9636)\\n']\n",
      "1851080S15062 ['NOT NAMED(td9636)\\n']\n",
      "1851080S15063 ['XXXX851006(reunion)\\n']\n",
      "1851080S21060 ['XXXX851005(reunion)\\n']\n",
      "1851080S21420 ['NOT NAMED(td9636)\\n']\n",
      "1851175N26270 ['UNNAMED(hurdat_atl)', 'bal011851(atcf)', 'NOT NAMED(mlc_natl)\\n']\n",
      "1851181N19275 ['NOT NAMED(mlc_natl)\\n']\n",
      "1851187N22262 ['UNNAMED(hurdat_atl)', 'bal021851(atcf)\\n']\n",
      "1851192N12300 ['UNNAMED(hurdat_atl)', 'bal031851(atcf)\\n']\n",
      "1851214N14321 ['NOT NAMED(mlc_natl)\\n']\n",
      "1851228N13313 ['UNNAMED(hurdat_atl)', 'bal041851(atcf)', 'NOT NAMED(mlc_natl)\\n']\n",
      "1851241N27280 ['NOT NAMED(mlc_natl)\\n']\n",
      "1851250N20278 ['NOT NAMED(mlc_natl)\\n']\n",
      "1851254N34316 ['NOT NAMED(mlc_natl)\\n']\n",
      "1851256N26265 ['NOT NAMED(mlc_natl)\\n']\n",
      "1851256N33287 ['UNNAMED(hurdat_atl)', 'bal051851(atcf)\\n']\n",
      "1851260N32298 ['NOT NAMED(mlc_natl)\\n']\n",
      "1851283N24298 ['NOT NAMED(mlc_natl)\\n']\n",
      "1851289N29282 ['UNNAMED(hurdat_atl)', 'bal061851(atcf)\\n']\n",
      "1851305S08089 ['XXXX851007(reunion)', 'NOT NAMED(td9636)\\n']\n",
      "1851309N19282 ['NOT NAMED(mlc_natl)\\n']\n",
      "1852001S12077 ['XXXX852008(reunion)\\n']\n",
      "1852001S13076 ['NOT NAMED(td9636)\\n']\n",
      "1852021S14075 ['XXXX852009(reunion)', 'NOT NAMED(td9636)\\n']\n",
      "1852232N21293 ['UNNAMED(hurdat_atl)', 'bal011852(atcf)', 'NOT NAMED(mlc_natl)\\n']\n",
      "1852242N34279 ['NOT NAMED(mlc_natl)\\n']\n",
      "1852247N14309 ['UNNAMED(hurdat_atl)', 'bal031852(atcf)', 'NOT NAMED(mlc_natl)\\n']\n",
      "1852247N32318 ['NOT NAMED(mlc_natl)\\n']\n",
      "1852249N17296 ['UNNAMED(hurdat_atl)', 'bal021852(atcf)\\n']\n",
      "1852264N13309 ['UNNAMED(hurdat_atl)', 'bal041852(atcf)', 'NOT NAMED(mlc_natl)\\n']\n",
      "1852266N17274 ['NOT NAMED(mlc_natl)\\n']\n",
      "1852270N20295 ['NOT NAMED(mlc_natl)\\n']\n",
      "1852271N15328 ['NOT NAMED(mlc_natl)\\n']\n",
      "1852273N11295 ['NOT NAMED(mlc_natl)\\n']\n",
      "1852278N14293 ['UNNAMED(hurdat_atl)', 'bal051852(atcf)', 'NOT NAMED(mlc_natl)\\n']\n",
      "1852331N24274 ['NOT NAMED(mlc_natl)\\n']\n",
      "1853216N26294 ['NOT NAMED(mlc_natl)\\n']\n",
      "1853218N33291 ['UNNAMED(hurdat_atl)', 'bal011853(atcf)\\n']\n",
      "1853223N12300 ['UNNAMED(hurdat_atl)', 'bal021853(atcf)\\n']\n",
      "1853228N14322 ['NOT NAMED(mlc_natl)\\n']\n",
      "1853238N18281 ['NOT NAMED(mlc_natl)\\n']\n"
     ]
    }
   ],
   "source": [
    "with open('ibtracs_v03r09_serial-'\n",
    "          'name-mapping.txt', mode='r') as infile:\n",
    "    for i, j in enumerate(infile):\n",
    "        if i == 50:\n",
    "            break\n",
    "            \n",
    "        k = j.split('  ')\n",
    "        print(k[0], k[1].split(' - '))"
   ]
  },
  {
   "cell_type": "code",
   "execution_count": 4,
   "metadata": {
    "collapsed": false
   },
   "outputs": [],
   "source": [
    "names = Table(name='ibtracs_hurricane_names',\n",
    "              col_names=['serial_no', 'names'])\n",
    "\n",
    "with open('ibtracs_v03r09_serial-'\n",
    "          'name-mapping.txt', mode='r') as infile:\n",
    "    for i in infile:\n",
    "        j = i.split('  ')\n",
    "        names.append([j[0],\n",
    "                     [k.replace('\\n', '') for k in j[1].split(' - ')]])"
   ]
  },
  {
   "cell_type": "code",
   "execution_count": 5,
   "metadata": {
    "collapsed": false
   },
   "outputs": [
    {
     "data": {
      "text/html": [
       "<style type=\"text/css\">    table.sqlify-table {        border: 1px solid #555555;        border-spacing: 0;        font-family: sans-serif;        font-size: 11pt;    }    table.sqlify-table * {        border-style: none;    }        table.sqlify-table tr:nth-child(2n) {        background: #eeeeee;    }    table.sqlify-table th {        background: #555555;        color: #ffffff;    }        table.sqlify-table th, table.sqlify-table td {        padding: 0.3em 0.2em 0.3em 0.2em;    }</style><h2>ibtracs_hurricane_names</h2>\n",
       "<h3>12755 rows x 2 columns</h3>\n",
       "\n",
       "            <table class=\"pgreaper-table\">\n",
       "                <thead>\n",
       "                    <tr><th></th><th>serial_no</th><th>names</th></tr>\n",
       "                    <tr><th></th><th>text primary key</th><th>jsonb</th></tr>\n",
       "                </thead>\n",
       "                <tbody>\n",
       "                    <tr><td>[0]</td><td>'1842298N11080'</td><td>['NOT NAMED(td9636)']</td></tr>\n",
       "<tr><td>[1]</td><td>'1845336N10074'</td><td>['NOT NAMED(td9636)']</td></tr>\n",
       "<tr><td>[2]</td><td>'1848011S09079'</td><td>['NOT NAMED(td9636)']</td></tr>\n",
       "<tr><td>[3]</td><td>'1848011S09080'</td><td>['XXXX848003(reunion)']</td></tr>\n",
       "<tr><td>[4]</td><td>'1848011S15057'</td><td>['XXXX848002(reunion)']</td></tr>\n",
       "<tr><td>[5]</td><td>'1848011S16057'</td><td>['NOT NAMED(td9636)']</td></tr>\n",
       "<tr><td>[6]</td><td>'1848061S12075'</td><td>['XXXX848001(reunion)', 'NOT NAMED(td9636)']</td></tr>\n",
       "<tr><td>[7]</td><td>'1848062S13069'</td><td>['NOT NAMED(td9636)']</td></tr>\n",
       "<tr><td>[8]</td><td>'1848112S07084'</td><td>['XXXX848004(reunion)']</td></tr>\n",
       "<tr><td>[9]</td><td>'1848112S07444'</td><td>['NOT NAMED(td9636)']</td></tr>\n",
       "<tr><td>[10]</td><td>'1851080S15062'</td><td>['NOT NAMED(td9636)']</td></tr>\n",
       "<tr><td>[11]</td><td>'1851080S15063'</td><td>['XXXX851006(reunion)']</td></tr>\n",
       "<tr><td>[12]</td><td>'1851080S21060'</td><td>['XXXX851005(reunion)']</td></tr>\n",
       "<tr><td>[13]</td><td>'1851080S21420'</td><td>['NOT NAMED(td9636)']</td></tr>\n",
       "<tr><td>[14]</td><td>'1851175N26270'</td><td>['UNNAMED(hurdat_atl)', 'bal011851(atcf)', 'NOT NAMED(mlc_natl)']</td></tr>\n",
       "<tr><td>[15]</td><td>'1851181N19275'</td><td>['NOT NAMED(mlc_natl)']</td></tr>\n",
       "<tr><td>[16]</td><td>'1851187N22262'</td><td>['UNNAMED(hurdat_atl)', 'bal021851(atcf)']</td></tr>\n",
       "<tr><td>[17]</td><td>'1851192N12300'</td><td>['UNNAMED(hurdat_atl)', 'bal031851(atcf)']</td></tr>\n",
       "<tr><td>[18]</td><td>'1851214N14321'</td><td>['NOT NAMED(mlc_natl)']</td></tr>\n",
       "<tr><td>[19]</td><td>'1851228N13313'</td><td>['UNNAMED(hurdat_atl)', 'bal041851(atcf)', 'NOT NAMED(mlc_natl)']</td></tr>\n",
       "<tr><td>[20]</td><td>'1851241N27280'</td><td>['NOT NAMED(mlc_natl)']</td></tr>\n",
       "<tr><td>[21]</td><td>'1851250N20278'</td><td>['NOT NAMED(mlc_natl)']</td></tr>\n",
       "<tr><td>[22]</td><td>'1851254N34316'</td><td>['NOT NAMED(mlc_natl)']</td></tr>\n",
       "<tr><td>[23]</td><td>'1851256N26265'</td><td>['NOT NAMED(mlc_natl)']</td></tr>\n",
       "<tr><td>[24]</td><td>'1851256N33287'</td><td>['UNNAMED(hurdat_atl)', 'bal051851(atcf)']</td></tr>\n",
       "<tr><td>[25]</td><td>'1851260N32298'</td><td>['NOT NAMED(mlc_natl)']</td></tr>\n",
       "<tr><td>[26]</td><td>'1851283N24298'</td><td>['NOT NAMED(mlc_natl)']</td></tr>\n",
       "<tr><td>[27]</td><td>'1851289N29282'</td><td>['UNNAMED(hurdat_atl)', 'bal061851(atcf)']</td></tr>\n",
       "<tr><td>[28]</td><td>'1851305S08089'</td><td>['XXXX851007(reunion)', 'NOT NAMED(td9636)']</td></tr>\n",
       "<tr><td>[29]</td><td>'1851309N19282'</td><td>['NOT NAMED(mlc_natl)']</td></tr>\n",
       "<tr><td>[30]</td><td>'1852001S12077'</td><td>['XXXX852008(reunion)']</td></tr>\n",
       "<tr><td>[31]</td><td>'1852001S13076'</td><td>['NOT NAMED(td9636)']</td></tr>\n",
       "<tr><td>[32]</td><td>'1852021S14075'</td><td>['XXXX852009(reunion)', 'NOT NAMED(td9636)']</td></tr>\n",
       "<tr><td>[33]</td><td>'1852232N21293'</td><td>['UNNAMED(hurdat_atl)', 'bal011852(atcf)', 'NOT NAMED(mlc_natl)']</td></tr>\n",
       "<tr><td>[34]</td><td>'1852242N34279'</td><td>['NOT NAMED(mlc_natl)']</td></tr>\n",
       "<tr><td>[35]</td><td>'1852247N14309'</td><td>['UNNAMED(hurdat_atl)', 'bal031852(atcf)', 'NOT NAMED(mlc_natl)']</td></tr>\n",
       "<tr><td>[36]</td><td>'1852247N32318'</td><td>['NOT NAMED(mlc_natl)']</td></tr>\n",
       "<tr><td>[37]</td><td>'1852249N17296'</td><td>['UNNAMED(hurdat_atl)', 'bal021852(atcf)']</td></tr>\n",
       "<tr><td>[38]</td><td>'1852264N13309'</td><td>['UNNAMED(hurdat_atl)', 'bal041852(atcf)', 'NOT NAMED(mlc_natl)']</td></tr>\n",
       "<tr><td>[39]</td><td>'1852266N17274'</td><td>['NOT NAMED(mlc_natl)']</td></tr>\n",
       "<tr><td>[40]</td><td>'1852270N20295'</td><td>['NOT NAMED(mlc_natl)']</td></tr>\n",
       "<tr><td>[41]</td><td>'1852271N15328'</td><td>['NOT NAMED(mlc_natl)']</td></tr>\n",
       "<tr><td>[42]</td><td>'1852273N11295'</td><td>['NOT NAMED(mlc_natl)']</td></tr>\n",
       "<tr><td>[43]</td><td>'1852278N14293'</td><td>['UNNAMED(hurdat_atl)', 'bal051852(atcf)', 'NOT NAMED(mlc_natl)']</td></tr>\n",
       "<tr><td>[44]</td><td>'1852331N24274'</td><td>['NOT NAMED(mlc_natl)']</td></tr>\n",
       "<tr><td>[45]</td><td>'1853216N26294'</td><td>['NOT NAMED(mlc_natl)']</td></tr>\n",
       "<tr><td>[46]</td><td>'1853218N33291'</td><td>['UNNAMED(hurdat_atl)', 'bal011853(atcf)']</td></tr>\n",
       "<tr><td>[47]</td><td>'1853223N12300'</td><td>['UNNAMED(hurdat_atl)', 'bal021853(atcf)']</td></tr>\n",
       "<tr><td>[48]</td><td>'1853228N14322'</td><td>['NOT NAMED(mlc_natl)']</td></tr>\n",
       "<tr><td>[49]</td><td>'1853238N18281'</td><td>['NOT NAMED(mlc_natl)']</td></tr>\n",
       "<tr><td>[50]</td><td>'1853239N11302'</td><td>['NOT NAMED(mlc_natl)']</td></tr>\n",
       "<tr><td>[51]</td><td>'1853242N12336'</td><td>['UNNAMED(hurdat_atl)', 'bal031853(atcf)', 'NOT NAMED(mlc_natl)']</td></tr>\n",
       "<tr><td>[52]</td><td>'1853245N34311'</td><td>['NOT NAMED(mlc_natl)']</td></tr>\n",
       "<tr><td>[53]</td><td>'1853251N24274'</td><td>['NOT NAMED(mlc_natl)']</td></tr>\n",
       "<tr><td>[54]</td><td>'1853251N37307'</td><td>['UNNAMED(hurdat_atl)', 'bal041853(atcf)']</td></tr>\n",
       "<tr><td>[55]</td><td>'1853253N41303'</td><td>['UNNAMED(hurdat_atl)', 'bal031853(atcf)']</td></tr>\n",
       "<tr><td>[56]</td><td>'1853264N20268'</td><td>['NOT NAMED(mlc_natl)']</td></tr>\n",
       "<tr><td>[57]</td><td>'1853265N20265'</td><td>['UNNAMED(hurdat_atl)', 'bal051853(atcf)']</td></tr>\n",
       "<tr><td>[58]</td><td>'1853268N27293'</td><td>['NOT NAMED(mlc_natl)']</td></tr>\n",
       "<tr><td>[59]</td><td>'1853269N26298'</td><td>['UNNAMED(hurdat_atl)', 'bal061853(atcf)']</td></tr>\n",
       "<tr><td>[60]</td><td>'1853270N14327'</td><td>['NOT NAMED(mlc_natl)']</td></tr>\n",
       "<tr><td>[61]</td><td>'1853272N15323'</td><td>['UNNAMED(hurdat_atl)', 'bal071853(atcf)']</td></tr>\n",
       "<tr><td>[62]</td><td>'1853291N32280'</td><td>['UNNAMED(hurdat_atl)', 'bal081853(atcf)', 'NOT NAMED(mlc_natl)']</td></tr>\n",
       "<tr><td>[63]</td><td>'1853318N21288'</td><td>['NOT NAMED(mlc_natl)']</td></tr>\n",
       "<tr><td>[64]</td><td>'1854032S17059'</td><td>['XXXX854010(reunion)']</td></tr>\n",
       "<tr><td>[65]</td><td>'1854039S18060'</td><td>['NOT NAMED(td9636)']</td></tr>\n",
       "<tr><td>[66]</td><td>'1854060S15069'</td><td>['XXXX854011(reunion)']</td></tr>\n",
       "<tr><td>[67]</td><td>'1854060S16069'</td><td>['NOT NAMED(td9636)']</td></tr>\n",
       "<tr><td>[68]</td><td>'1854176N26268'</td><td>['UNNAMED(hurdat_atl)', 'bal011854(atcf)', 'NOT NAMED(mlc_natl)']</td></tr>\n",
       "<tr><td>[69]</td><td>'1854207N28267'</td><td>['NOT NAMED(mlc_natl)']</td></tr>\n",
       "<tr><td>[70]</td><td>'1854236N33305'</td><td>['UNNAMED(hurdat_atl)', 'bal021854(atcf)']</td></tr>\n",
       "<tr><td>[71]</td><td>'1854246N25300'</td><td>['UNNAMED(hurdat_atl)', 'bal031854(atcf)', 'NOT NAMED(mlc_natl)']</td></tr>\n",
       "<tr><td>[72]</td><td>'1854253N14303'</td><td>['NOT NAMED(mlc_natl)']</td></tr>\n",
       "<tr><td>[73]</td><td>'1854254N36281'</td><td>['NOT NAMED(mlc_natl)']</td></tr>\n",
       "<tr><td>[74]</td><td>'1854258N13329'</td><td>['NOT NAMED(mlc_natl)']</td></tr>\n",
       "<tr><td>[75]</td><td>'1854259N24266'</td><td>['NOT NAMED(mlc_natl)']</td></tr>\n",
       "<tr><td>[76]</td><td>'1854261N28266'</td><td>['UNNAMED(hurdat_atl)', 'bal041854(atcf)']</td></tr>\n",
       "<tr><td>[77]</td><td>'1854279N12297'</td><td>['NOT NAMED(mlc_natl)']</td></tr>\n",
       "<tr><td>[78]</td><td>'1854287N18296'</td><td>['NOT NAMED(mlc_natl)']</td></tr>\n",
       "<tr><td>[79]</td><td>'1854293N25292'</td><td>['UNNAMED(hurdat_atl)', 'bal051854(atcf)']</td></tr>\n",
       "<tr><td>[80]</td><td>'1854303N14072'</td><td>['NOT NAMED(td9636)']</td></tr>\n",
       "<tr><td>[81]</td><td>'1854305S10073'</td><td>['NOT NAMED(td9636)']</td></tr>\n",
       "<tr><td>[82]</td><td>'1854309N22294'</td><td>['NOT NAMED(mlc_natl)']</td></tr>\n",
       "<tr><td>[83]</td><td>'1854325S10073'</td><td>['XXXX854012(reunion)']</td></tr>\n",
       "<tr><td>[84]</td><td>'1855021S14076'</td><td>['XXXX855013(reunion)', 'NOT NAMED(td9636)']</td></tr>\n",
       "<tr><td>[85]</td><td>'1855021S15057'</td><td>['XXXX855014(reunion)', 'NOT NAMED(td9636)']</td></tr>\n",
       "<tr><td>[86]</td><td>'1855121S08073'</td><td>['NOT NAMED(td9636)']</td></tr>\n",
       "<tr><td>[87]</td><td>'1855131S08073'</td><td>['XXXX855015(reunion)']</td></tr>\n",
       "<tr><td>[88]</td><td>'1855206N22263'</td><td>['NOT NAMED(mlc_natl)']</td></tr>\n",
       "<tr><td>[89]</td><td>'1855215N30272'</td><td>['NOT NAMED(mlc_natl)']</td></tr>\n",
       "<tr><td>[90]</td><td>'1855219N22262'</td><td>['UNNAMED(hurdat_atl)', 'bal011855(atcf)']</td></tr>\n",
       "<tr><td>[91]</td><td>'1855222N44318'</td><td>['UNNAMED(hurdat_atl)', 'bal021855(atcf)']</td></tr>\n",
       "<tr><td>[92]</td><td>'1855224N13277'</td><td>['UNNAMED(hurdat_atl)', 'bal031855(atcf)']</td></tr>\n",
       "<tr><td>[93]</td><td>'1855236N12304'</td><td>['UNNAMED(hurdat_atl)', 'bal041855(atcf)', 'NOT NAMED(mlc_natl)']</td></tr>\n",
       "<tr><td>[94]</td><td>'1855244N12319'</td><td>['NOT NAMED(mlc_natl)']</td></tr>\n",
       "<tr><td>[95]</td><td>'1855252N20274'</td><td>['UNNAMED(hurdat_atl)', 'bal051855(atcf)', 'NOT NAMED(mlc_natl)']</td></tr>\n",
       "<tr><td>[96]</td><td>'1855263N24306'</td><td>['NOT NAMED(mlc_natl)']</td></tr>\n",
       "<tr><td>[97]</td><td>'1855270N33309'</td><td>['NOT NAMED(mlc_natl)']</td></tr>\n",
       "<tr><td>[98]</td><td>'1855308N24311'</td><td>['NOT NAMED(mlc_natl)']</td></tr>\n",
       "<tr><td>[99]</td><td>'1856032S17058'</td><td>['XXXX856016(reunion)', 'NOT NAMED(td9636)']</td></tr>\n",
       "<tr><td>[100]</td><td>'1856092S16060'</td><td>['XXXX856017(reunion)']</td></tr>\n",
       "\n",
       "                </tbody>\n",
       "            </table>"
      ],
      "text/plain": [
       "\n",
       "ibtracs_hurricane_names\n",
       "12755 rows x 2 columns\n",
       "\n",
       "\n",
       "  serial_no       names     \n",
       " text prima..     jsonb     \n",
       "----------------------------------------------------------------------------------------------------------------\n",
       " '1842298N..'  ['NOT NAME.. \n",
       " '1845336N..'  ['NOT NAME.. \n",
       " '1848011S..'  ['NOT NAME.. \n",
       " '1848011S..'  ['XXXX8480.. \n",
       " '1848011S..'  ['XXXX8480.. \n",
       " '1848011S..'  ['NOT NAME.. \n",
       " '1848061S..'  ['XXXX8480.. \n",
       " '1848062S..'  ['NOT NAME.. \n",
       " '1848112S..'  ['XXXX8480.. \n",
       " '1848112S..'  ['NOT NAME.. \n"
      ]
     },
     "execution_count": 5,
     "metadata": {},
     "output_type": "execute_result"
    }
   ],
   "source": [
    "names.p_key = 'serial_no'\n",
    "names"
   ]
  },
  {
   "cell_type": "markdown",
   "metadata": {},
   "source": [
    "## Create a Mapping of Hurricane Names to Organizations that Named Them"
   ]
  },
  {
   "cell_type": "code",
   "execution_count": 6,
   "metadata": {
    "collapsed": false
   },
   "outputs": [
    {
     "data": {
      "text/plain": [
       "['UNNAMED(hurdat_atl)', 'bal041851(atcf)', 'NOT NAMED(mlc_natl)']"
      ]
     },
     "execution_count": 6,
     "metadata": {},
     "output_type": "execute_result"
    }
   ],
   "source": [
    "temp = names['names'][19]\n",
    "temp"
   ]
  },
  {
   "cell_type": "code",
   "execution_count": 7,
   "metadata": {
    "collapsed": true
   },
   "outputs": [],
   "source": [
    "def split_name(name):\n",
    "    # Split the hurricane name from the organization that named it\n",
    "    reg = re.match('(.*)\\((.*)\\)', name)\n",
    "    return (reg.group(1), reg.group(2))"
   ]
  },
  {
   "cell_type": "code",
   "execution_count": 8,
   "metadata": {
    "collapsed": false
   },
   "outputs": [
    {
     "data": {
      "text/plain": [
       "[('UNNAMED', 'hurdat_atl'), ('bal041851', 'atcf'), ('NOT NAMED', 'mlc_natl')]"
      ]
     },
     "execution_count": 8,
     "metadata": {},
     "output_type": "execute_result"
    }
   ],
   "source": [
    "temp1 = [split_name(i) for i in temp]\n",
    "temp1"
   ]
  },
  {
   "cell_type": "code",
   "execution_count": 9,
   "metadata": {
    "collapsed": false
   },
   "outputs": [
    {
     "data": {
      "text/plain": [
       "defaultdict(list,\n",
       "            {'NOT NAMED': ['mlc_natl'],\n",
       "             'UNNAMED': ['hurdat_atl'],\n",
       "             'bal041851': ['atcf']})"
      ]
     },
     "execution_count": 9,
     "metadata": {},
     "output_type": "execute_result"
    }
   ],
   "source": [
    "temp2 = defaultdict(list)\n",
    "for x, y in temp1:\n",
    "    temp2[x].append(y)\n",
    "temp2"
   ]
  },
  {
   "cell_type": "code",
   "execution_count": 10,
   "metadata": {
    "collapsed": true
   },
   "outputs": [],
   "source": [
    "def map_names(names):\n",
    "    kv = [split_name(i) for i in names]\n",
    "    d = defaultdict(list)\n",
    "    for x, y in kv:\n",
    "        d[x].append(y)\n",
    "    return d"
   ]
  },
  {
   "cell_type": "code",
   "execution_count": 11,
   "metadata": {
    "collapsed": true
   },
   "outputs": [],
   "source": [
    "names.apply('names', map_names)"
   ]
  },
  {
   "cell_type": "code",
   "execution_count": 12,
   "metadata": {
    "collapsed": false
   },
   "outputs": [
    {
     "data": {
      "text/html": [
       "<style type=\"text/css\">    table.sqlify-table {        border: 1px solid #555555;        border-spacing: 0;        font-family: sans-serif;        font-size: 11pt;    }    table.sqlify-table * {        border-style: none;    }        table.sqlify-table tr:nth-child(2n) {        background: #eeeeee;    }    table.sqlify-table th {        background: #555555;        color: #ffffff;    }        table.sqlify-table th, table.sqlify-table td {        padding: 0.3em 0.2em 0.3em 0.2em;    }</style><h2>ibtracs_hurricane_names</h2>\n",
       "<h3>12755 rows x 2 columns</h3>\n",
       "\n",
       "            <table class=\"pgreaper-table\">\n",
       "                <thead>\n",
       "                    <tr><th></th><th>serial_no</th><th>names</th></tr>\n",
       "                    <tr><th></th><th>text primary key</th><th>jsonb</th></tr>\n",
       "                </thead>\n",
       "                <tbody>\n",
       "                    <tr><td>[0]</td><td>'1842298N11080'</td><td>defaultdict(&lt;class 'list'&gt;, {'NOT NAMED': ['td9636']})</td></tr>\n",
       "<tr><td>[1]</td><td>'1845336N10074'</td><td>defaultdict(&lt;class 'list'&gt;, {'NOT NAMED': ['td9636']})</td></tr>\n",
       "<tr><td>[2]</td><td>'1848011S09079'</td><td>defaultdict(&lt;class 'list'&gt;, {'NOT NAMED': ['td9636']})</td></tr>\n",
       "<tr><td>[3]</td><td>'1848011S09080'</td><td>defaultdict(&lt;class 'list'&gt;, {'XXXX848003': ['reunion']})</td></tr>\n",
       "<tr><td>[4]</td><td>'1848011S15057'</td><td>defaultdict(&lt;class 'list'&gt;, {'XXXX848002': ['reunion']})</td></tr>\n",
       "<tr><td>[5]</td><td>'1848011S16057'</td><td>defaultdict(&lt;class 'list'&gt;, {'NOT NAMED': ['td9636']})</td></tr>\n",
       "<tr><td>[6]</td><td>'1848061S12075'</td><td>defaultdict(&lt;class 'list'&gt;, {'XXXX848001': ['reunion'], 'NOT NAMED': ['td9636']})</td></tr>\n",
       "<tr><td>[7]</td><td>'1848062S13069'</td><td>defaultdict(&lt;class 'list'&gt;, {'NOT NAMED': ['td9636']})</td></tr>\n",
       "<tr><td>[8]</td><td>'1848112S07084'</td><td>defaultdict(&lt;class 'list'&gt;, {'XXXX848004': ['reunion']})</td></tr>\n",
       "<tr><td>[9]</td><td>'1848112S07444'</td><td>defaultdict(&lt;class 'list'&gt;, {'NOT NAMED': ['td9636']})</td></tr>\n",
       "<tr><td>[10]</td><td>'1851080S15062'</td><td>defaultdict(&lt;class 'list'&gt;, {'NOT NAMED': ['td9636']})</td></tr>\n",
       "<tr><td>[11]</td><td>'1851080S15063'</td><td>defaultdict(&lt;class 'list'&gt;, {'XXXX851006': ['reunion']})</td></tr>\n",
       "<tr><td>[12]</td><td>'1851080S21060'</td><td>defaultdict(&lt;class 'list'&gt;, {'XXXX851005': ['reunion']})</td></tr>\n",
       "<tr><td>[13]</td><td>'1851080S21420'</td><td>defaultdict(&lt;class 'list'&gt;, {'NOT NAMED': ['td9636']})</td></tr>\n",
       "<tr><td>[14]</td><td>'1851175N26270'</td><td>defaultdict(&lt;class 'list'&gt;, {'UNNAMED': ['hurdat_atl'], 'bal011851': ['atcf'], 'NOT NAMED': ..</td></tr>\n",
       "<tr><td>[15]</td><td>'1851181N19275'</td><td>defaultdict(&lt;class 'list'&gt;, {'NOT NAMED': ['mlc_natl']})</td></tr>\n",
       "<tr><td>[16]</td><td>'1851187N22262'</td><td>defaultdict(&lt;class 'list'&gt;, {'UNNAMED': ['hurdat_atl'], 'bal021851': ['atcf']})</td></tr>\n",
       "<tr><td>[17]</td><td>'1851192N12300'</td><td>defaultdict(&lt;class 'list'&gt;, {'UNNAMED': ['hurdat_atl'], 'bal031851': ['atcf']})</td></tr>\n",
       "<tr><td>[18]</td><td>'1851214N14321'</td><td>defaultdict(&lt;class 'list'&gt;, {'NOT NAMED': ['mlc_natl']})</td></tr>\n",
       "<tr><td>[19]</td><td>'1851228N13313'</td><td>defaultdict(&lt;class 'list'&gt;, {'UNNAMED': ['hurdat_atl'], 'bal041851': ['atcf'], 'NOT NAMED': ..</td></tr>\n",
       "<tr><td>[20]</td><td>'1851241N27280'</td><td>defaultdict(&lt;class 'list'&gt;, {'NOT NAMED': ['mlc_natl']})</td></tr>\n",
       "<tr><td>[21]</td><td>'1851250N20278'</td><td>defaultdict(&lt;class 'list'&gt;, {'NOT NAMED': ['mlc_natl']})</td></tr>\n",
       "<tr><td>[22]</td><td>'1851254N34316'</td><td>defaultdict(&lt;class 'list'&gt;, {'NOT NAMED': ['mlc_natl']})</td></tr>\n",
       "<tr><td>[23]</td><td>'1851256N26265'</td><td>defaultdict(&lt;class 'list'&gt;, {'NOT NAMED': ['mlc_natl']})</td></tr>\n",
       "<tr><td>[24]</td><td>'1851256N33287'</td><td>defaultdict(&lt;class 'list'&gt;, {'UNNAMED': ['hurdat_atl'], 'bal051851': ['atcf']})</td></tr>\n",
       "<tr><td>[25]</td><td>'1851260N32298'</td><td>defaultdict(&lt;class 'list'&gt;, {'NOT NAMED': ['mlc_natl']})</td></tr>\n",
       "<tr><td>[26]</td><td>'1851283N24298'</td><td>defaultdict(&lt;class 'list'&gt;, {'NOT NAMED': ['mlc_natl']})</td></tr>\n",
       "<tr><td>[27]</td><td>'1851289N29282'</td><td>defaultdict(&lt;class 'list'&gt;, {'UNNAMED': ['hurdat_atl'], 'bal061851': ['atcf']})</td></tr>\n",
       "<tr><td>[28]</td><td>'1851305S08089'</td><td>defaultdict(&lt;class 'list'&gt;, {'XXXX851007': ['reunion'], 'NOT NAMED': ['td9636']})</td></tr>\n",
       "<tr><td>[29]</td><td>'1851309N19282'</td><td>defaultdict(&lt;class 'list'&gt;, {'NOT NAMED': ['mlc_natl']})</td></tr>\n",
       "<tr><td>[30]</td><td>'1852001S12077'</td><td>defaultdict(&lt;class 'list'&gt;, {'XXXX852008': ['reunion']})</td></tr>\n",
       "<tr><td>[31]</td><td>'1852001S13076'</td><td>defaultdict(&lt;class 'list'&gt;, {'NOT NAMED': ['td9636']})</td></tr>\n",
       "<tr><td>[32]</td><td>'1852021S14075'</td><td>defaultdict(&lt;class 'list'&gt;, {'XXXX852009': ['reunion'], 'NOT NAMED': ['td9636']})</td></tr>\n",
       "<tr><td>[33]</td><td>'1852232N21293'</td><td>defaultdict(&lt;class 'list'&gt;, {'UNNAMED': ['hurdat_atl'], 'bal011852': ['atcf'], 'NOT NAMED': ..</td></tr>\n",
       "<tr><td>[34]</td><td>'1852242N34279'</td><td>defaultdict(&lt;class 'list'&gt;, {'NOT NAMED': ['mlc_natl']})</td></tr>\n",
       "<tr><td>[35]</td><td>'1852247N14309'</td><td>defaultdict(&lt;class 'list'&gt;, {'UNNAMED': ['hurdat_atl'], 'bal031852': ['atcf'], 'NOT NAMED': ..</td></tr>\n",
       "<tr><td>[36]</td><td>'1852247N32318'</td><td>defaultdict(&lt;class 'list'&gt;, {'NOT NAMED': ['mlc_natl']})</td></tr>\n",
       "<tr><td>[37]</td><td>'1852249N17296'</td><td>defaultdict(&lt;class 'list'&gt;, {'UNNAMED': ['hurdat_atl'], 'bal021852': ['atcf']})</td></tr>\n",
       "<tr><td>[38]</td><td>'1852264N13309'</td><td>defaultdict(&lt;class 'list'&gt;, {'UNNAMED': ['hurdat_atl'], 'bal041852': ['atcf'], 'NOT NAMED': ..</td></tr>\n",
       "<tr><td>[39]</td><td>'1852266N17274'</td><td>defaultdict(&lt;class 'list'&gt;, {'NOT NAMED': ['mlc_natl']})</td></tr>\n",
       "<tr><td>[40]</td><td>'1852270N20295'</td><td>defaultdict(&lt;class 'list'&gt;, {'NOT NAMED': ['mlc_natl']})</td></tr>\n",
       "<tr><td>[41]</td><td>'1852271N15328'</td><td>defaultdict(&lt;class 'list'&gt;, {'NOT NAMED': ['mlc_natl']})</td></tr>\n",
       "<tr><td>[42]</td><td>'1852273N11295'</td><td>defaultdict(&lt;class 'list'&gt;, {'NOT NAMED': ['mlc_natl']})</td></tr>\n",
       "<tr><td>[43]</td><td>'1852278N14293'</td><td>defaultdict(&lt;class 'list'&gt;, {'UNNAMED': ['hurdat_atl'], 'bal051852': ['atcf'], 'NOT NAMED': ..</td></tr>\n",
       "<tr><td>[44]</td><td>'1852331N24274'</td><td>defaultdict(&lt;class 'list'&gt;, {'NOT NAMED': ['mlc_natl']})</td></tr>\n",
       "<tr><td>[45]</td><td>'1853216N26294'</td><td>defaultdict(&lt;class 'list'&gt;, {'NOT NAMED': ['mlc_natl']})</td></tr>\n",
       "<tr><td>[46]</td><td>'1853218N33291'</td><td>defaultdict(&lt;class 'list'&gt;, {'UNNAMED': ['hurdat_atl'], 'bal011853': ['atcf']})</td></tr>\n",
       "<tr><td>[47]</td><td>'1853223N12300'</td><td>defaultdict(&lt;class 'list'&gt;, {'UNNAMED': ['hurdat_atl'], 'bal021853': ['atcf']})</td></tr>\n",
       "<tr><td>[48]</td><td>'1853228N14322'</td><td>defaultdict(&lt;class 'list'&gt;, {'NOT NAMED': ['mlc_natl']})</td></tr>\n",
       "<tr><td>[49]</td><td>'1853238N18281'</td><td>defaultdict(&lt;class 'list'&gt;, {'NOT NAMED': ['mlc_natl']})</td></tr>\n",
       "<tr><td>[50]</td><td>'1853239N11302'</td><td>defaultdict(&lt;class 'list'&gt;, {'NOT NAMED': ['mlc_natl']})</td></tr>\n",
       "<tr><td>[51]</td><td>'1853242N12336'</td><td>defaultdict(&lt;class 'list'&gt;, {'UNNAMED': ['hurdat_atl'], 'bal031853': ['atcf'], 'NOT NAMED': ..</td></tr>\n",
       "<tr><td>[52]</td><td>'1853245N34311'</td><td>defaultdict(&lt;class 'list'&gt;, {'NOT NAMED': ['mlc_natl']})</td></tr>\n",
       "<tr><td>[53]</td><td>'1853251N24274'</td><td>defaultdict(&lt;class 'list'&gt;, {'NOT NAMED': ['mlc_natl']})</td></tr>\n",
       "<tr><td>[54]</td><td>'1853251N37307'</td><td>defaultdict(&lt;class 'list'&gt;, {'UNNAMED': ['hurdat_atl'], 'bal041853': ['atcf']})</td></tr>\n",
       "<tr><td>[55]</td><td>'1853253N41303'</td><td>defaultdict(&lt;class 'list'&gt;, {'UNNAMED': ['hurdat_atl'], 'bal031853': ['atcf']})</td></tr>\n",
       "<tr><td>[56]</td><td>'1853264N20268'</td><td>defaultdict(&lt;class 'list'&gt;, {'NOT NAMED': ['mlc_natl']})</td></tr>\n",
       "<tr><td>[57]</td><td>'1853265N20265'</td><td>defaultdict(&lt;class 'list'&gt;, {'UNNAMED': ['hurdat_atl'], 'bal051853': ['atcf']})</td></tr>\n",
       "<tr><td>[58]</td><td>'1853268N27293'</td><td>defaultdict(&lt;class 'list'&gt;, {'NOT NAMED': ['mlc_natl']})</td></tr>\n",
       "<tr><td>[59]</td><td>'1853269N26298'</td><td>defaultdict(&lt;class 'list'&gt;, {'UNNAMED': ['hurdat_atl'], 'bal061853': ['atcf']})</td></tr>\n",
       "<tr><td>[60]</td><td>'1853270N14327'</td><td>defaultdict(&lt;class 'list'&gt;, {'NOT NAMED': ['mlc_natl']})</td></tr>\n",
       "<tr><td>[61]</td><td>'1853272N15323'</td><td>defaultdict(&lt;class 'list'&gt;, {'UNNAMED': ['hurdat_atl'], 'bal071853': ['atcf']})</td></tr>\n",
       "<tr><td>[62]</td><td>'1853291N32280'</td><td>defaultdict(&lt;class 'list'&gt;, {'UNNAMED': ['hurdat_atl'], 'bal081853': ['atcf'], 'NOT NAMED': ..</td></tr>\n",
       "<tr><td>[63]</td><td>'1853318N21288'</td><td>defaultdict(&lt;class 'list'&gt;, {'NOT NAMED': ['mlc_natl']})</td></tr>\n",
       "<tr><td>[64]</td><td>'1854032S17059'</td><td>defaultdict(&lt;class 'list'&gt;, {'XXXX854010': ['reunion']})</td></tr>\n",
       "<tr><td>[65]</td><td>'1854039S18060'</td><td>defaultdict(&lt;class 'list'&gt;, {'NOT NAMED': ['td9636']})</td></tr>\n",
       "<tr><td>[66]</td><td>'1854060S15069'</td><td>defaultdict(&lt;class 'list'&gt;, {'XXXX854011': ['reunion']})</td></tr>\n",
       "<tr><td>[67]</td><td>'1854060S16069'</td><td>defaultdict(&lt;class 'list'&gt;, {'NOT NAMED': ['td9636']})</td></tr>\n",
       "<tr><td>[68]</td><td>'1854176N26268'</td><td>defaultdict(&lt;class 'list'&gt;, {'UNNAMED': ['hurdat_atl'], 'bal011854': ['atcf'], 'NOT NAMED': ..</td></tr>\n",
       "<tr><td>[69]</td><td>'1854207N28267'</td><td>defaultdict(&lt;class 'list'&gt;, {'NOT NAMED': ['mlc_natl']})</td></tr>\n",
       "<tr><td>[70]</td><td>'1854236N33305'</td><td>defaultdict(&lt;class 'list'&gt;, {'UNNAMED': ['hurdat_atl'], 'bal021854': ['atcf']})</td></tr>\n",
       "<tr><td>[71]</td><td>'1854246N25300'</td><td>defaultdict(&lt;class 'list'&gt;, {'UNNAMED': ['hurdat_atl'], 'bal031854': ['atcf'], 'NOT NAMED': ..</td></tr>\n",
       "<tr><td>[72]</td><td>'1854253N14303'</td><td>defaultdict(&lt;class 'list'&gt;, {'NOT NAMED': ['mlc_natl']})</td></tr>\n",
       "<tr><td>[73]</td><td>'1854254N36281'</td><td>defaultdict(&lt;class 'list'&gt;, {'NOT NAMED': ['mlc_natl']})</td></tr>\n",
       "<tr><td>[74]</td><td>'1854258N13329'</td><td>defaultdict(&lt;class 'list'&gt;, {'NOT NAMED': ['mlc_natl']})</td></tr>\n",
       "<tr><td>[75]</td><td>'1854259N24266'</td><td>defaultdict(&lt;class 'list'&gt;, {'NOT NAMED': ['mlc_natl']})</td></tr>\n",
       "<tr><td>[76]</td><td>'1854261N28266'</td><td>defaultdict(&lt;class 'list'&gt;, {'UNNAMED': ['hurdat_atl'], 'bal041854': ['atcf']})</td></tr>\n",
       "<tr><td>[77]</td><td>'1854279N12297'</td><td>defaultdict(&lt;class 'list'&gt;, {'NOT NAMED': ['mlc_natl']})</td></tr>\n",
       "<tr><td>[78]</td><td>'1854287N18296'</td><td>defaultdict(&lt;class 'list'&gt;, {'NOT NAMED': ['mlc_natl']})</td></tr>\n",
       "<tr><td>[79]</td><td>'1854293N25292'</td><td>defaultdict(&lt;class 'list'&gt;, {'UNNAMED': ['hurdat_atl'], 'bal051854': ['atcf']})</td></tr>\n",
       "<tr><td>[80]</td><td>'1854303N14072'</td><td>defaultdict(&lt;class 'list'&gt;, {'NOT NAMED': ['td9636']})</td></tr>\n",
       "<tr><td>[81]</td><td>'1854305S10073'</td><td>defaultdict(&lt;class 'list'&gt;, {'NOT NAMED': ['td9636']})</td></tr>\n",
       "<tr><td>[82]</td><td>'1854309N22294'</td><td>defaultdict(&lt;class 'list'&gt;, {'NOT NAMED': ['mlc_natl']})</td></tr>\n",
       "<tr><td>[83]</td><td>'1854325S10073'</td><td>defaultdict(&lt;class 'list'&gt;, {'XXXX854012': ['reunion']})</td></tr>\n",
       "<tr><td>[84]</td><td>'1855021S14076'</td><td>defaultdict(&lt;class 'list'&gt;, {'XXXX855013': ['reunion'], 'NOT NAMED': ['td9636']})</td></tr>\n",
       "<tr><td>[85]</td><td>'1855021S15057'</td><td>defaultdict(&lt;class 'list'&gt;, {'XXXX855014': ['reunion'], 'NOT NAMED': ['td9636']})</td></tr>\n",
       "<tr><td>[86]</td><td>'1855121S08073'</td><td>defaultdict(&lt;class 'list'&gt;, {'NOT NAMED': ['td9636']})</td></tr>\n",
       "<tr><td>[87]</td><td>'1855131S08073'</td><td>defaultdict(&lt;class 'list'&gt;, {'XXXX855015': ['reunion']})</td></tr>\n",
       "<tr><td>[88]</td><td>'1855206N22263'</td><td>defaultdict(&lt;class 'list'&gt;, {'NOT NAMED': ['mlc_natl']})</td></tr>\n",
       "<tr><td>[89]</td><td>'1855215N30272'</td><td>defaultdict(&lt;class 'list'&gt;, {'NOT NAMED': ['mlc_natl']})</td></tr>\n",
       "<tr><td>[90]</td><td>'1855219N22262'</td><td>defaultdict(&lt;class 'list'&gt;, {'UNNAMED': ['hurdat_atl'], 'bal011855': ['atcf']})</td></tr>\n",
       "<tr><td>[91]</td><td>'1855222N44318'</td><td>defaultdict(&lt;class 'list'&gt;, {'UNNAMED': ['hurdat_atl'], 'bal021855': ['atcf']})</td></tr>\n",
       "<tr><td>[92]</td><td>'1855224N13277'</td><td>defaultdict(&lt;class 'list'&gt;, {'UNNAMED': ['hurdat_atl'], 'bal031855': ['atcf']})</td></tr>\n",
       "<tr><td>[93]</td><td>'1855236N12304'</td><td>defaultdict(&lt;class 'list'&gt;, {'UNNAMED': ['hurdat_atl'], 'bal041855': ['atcf'], 'NOT NAMED': ..</td></tr>\n",
       "<tr><td>[94]</td><td>'1855244N12319'</td><td>defaultdict(&lt;class 'list'&gt;, {'NOT NAMED': ['mlc_natl']})</td></tr>\n",
       "<tr><td>[95]</td><td>'1855252N20274'</td><td>defaultdict(&lt;class 'list'&gt;, {'UNNAMED': ['hurdat_atl'], 'bal051855': ['atcf'], 'NOT NAMED': ..</td></tr>\n",
       "<tr><td>[96]</td><td>'1855263N24306'</td><td>defaultdict(&lt;class 'list'&gt;, {'NOT NAMED': ['mlc_natl']})</td></tr>\n",
       "<tr><td>[97]</td><td>'1855270N33309'</td><td>defaultdict(&lt;class 'list'&gt;, {'NOT NAMED': ['mlc_natl']})</td></tr>\n",
       "<tr><td>[98]</td><td>'1855308N24311'</td><td>defaultdict(&lt;class 'list'&gt;, {'NOT NAMED': ['mlc_natl']})</td></tr>\n",
       "<tr><td>[99]</td><td>'1856032S17058'</td><td>defaultdict(&lt;class 'list'&gt;, {'XXXX856016': ['reunion'], 'NOT NAMED': ['td9636']})</td></tr>\n",
       "<tr><td>[100]</td><td>'1856092S16060'</td><td>defaultdict(&lt;class 'list'&gt;, {'XXXX856017': ['reunion']})</td></tr>\n",
       "\n",
       "                </tbody>\n",
       "            </table>"
      ],
      "text/plain": [
       "\n",
       "ibtracs_hurricane_names\n",
       "12755 rows x 2 columns\n",
       "\n",
       "\n",
       "  serial_no       names     \n",
       " text prima..     jsonb     \n",
       "----------------------------------------------------------------------------------------------------------------\n",
       " '1842298N..'  defaultdic.. \n",
       " '1845336N..'  defaultdic.. \n",
       " '1848011S..'  defaultdic.. \n",
       " '1848011S..'  defaultdic.. \n",
       " '1848011S..'  defaultdic.. \n",
       " '1848011S..'  defaultdic.. \n",
       " '1848061S..'  defaultdic.. \n",
       " '1848062S..'  defaultdic.. \n",
       " '1848112S..'  defaultdic.. \n",
       " '1848112S..'  defaultdic.. \n"
      ]
     },
     "execution_count": 12,
     "metadata": {},
     "output_type": "execute_result"
    }
   ],
   "source": [
    "names"
   ]
  },
  {
   "cell_type": "code",
   "execution_count": 14,
   "metadata": {
    "collapsed": true
   },
   "outputs": [],
   "source": [
    "copy_table(names, dbname='us_wth')"
   ]
  }
 ],
 "metadata": {
  "kernelspec": {
   "display_name": "Python 3",
   "language": "python",
   "name": "python3"
  },
  "language_info": {
   "codemirror_mode": {
    "name": "ipython",
    "version": 3
   },
   "file_extension": ".py",
   "mimetype": "text/x-python",
   "name": "python",
   "nbconvert_exporter": "python",
   "pygments_lexer": "ipython3",
   "version": "3.6.0"
  }
 },
 "nbformat": 4,
 "nbformat_minor": 2
}
